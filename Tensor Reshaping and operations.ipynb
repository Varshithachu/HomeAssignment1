{
  "cells": [
    {
      "cell_type": "code",
      "source": [
        "import tensorflow as tf\n",
        "\n",
        "# Step 1: Create a random tensor of shape (4, 6)\n",
        "tensor = tf.random.uniform(shape=(4, 6))\n",
        "\n",
        "# Step 2: Find its rank and shape\n",
        "rank = tf.rank(tensor)\n",
        "shape = tf.shape(tensor)\n",
        "\n",
        "#print(\"Original Tensor:\\n\", tensor.numpy())\n",
        "print(\"Rank Before Reshaping:\", rank.numpy())\n",
        "print(\"Shape Before Reshaping:\", shape.numpy())\n",
        "\n",
        "# Step 3: Reshape it into (2, 3, 4) and transpose it to (3, 2, 4)\n",
        "reshaped_tensor = tf.reshape(tensor, (2, 3, 4))\n",
        "transposed_tensor = tf.transpose(reshaped_tensor, perm=[1, 0, 2])\n",
        "rank1 = tf.rank(reshaped_tensor)\n",
        "shape1 = tf.shape(reshaped_tensor)\n",
        "\n",
        "#print(\"Original Tensor:\\n\", tensor.numpy())\n",
        "print(\"Rank After Reshaping:\", rank1.numpy())\n",
        "print(\"Shape After Reshaping:\", shape1.numpy())\n",
        "\n",
        "\n",
        "#print(\"Reshaped Tensor:\\n\", reshaped_tensor.numpy())\n",
        "#print(\"Transposed Tensor:\\n\", transposed_tensor.numpy())\n",
        "\n",
        "# Step 4: Broadcast a smaller tensor (1, 4) to match the larger tensor and add them\n",
        "small_tensor = tf.random.uniform(shape=(1, 4))\n",
        "broadcasted_sum = transposed_tensor + small_tensor\n",
        "\n",
        "#print(\"Small Tensor:\\n\", small_tensor.numpy())\n",
        "#print(\"Broadcasted Sum:\\n\", broadcasted_sum.numpy())\n",
        "\n"
      ],
      "metadata": {
        "colab": {
          "base_uri": "https://localhost:8080/"
        },
        "id": "tcWH1_xtY4vu",
        "outputId": "ceb7d053-866a-4f10-e8a3-08922a9d0e93"
      },
      "id": "tcWH1_xtY4vu",
      "execution_count": 12,
      "outputs": [
        {
          "output_type": "stream",
          "name": "stdout",
          "text": [
            "Rank Before Reshaping: 2\n",
            "Shape Before Reshaping: [4 6]\n",
            "Rank After Reshaping: 3\n",
            "Shape After Reshaping: [2 3 4]\n"
          ]
        }
      ]
    }
  ],
  "metadata": {
    "kernelspec": {
      "display_name": "Python 3 (ipykernel)",
      "language": "python",
      "name": "python3"
    },
    "language_info": {
      "codemirror_mode": {
        "name": "ipython",
        "version": 3
      },
      "file_extension": ".py",
      "mimetype": "text/x-python",
      "name": "python",
      "nbconvert_exporter": "python",
      "pygments_lexer": "ipython3",
      "version": "3.12.8"
    },
    "colab": {
      "provenance": []
    }
  },
  "nbformat": 4,
  "nbformat_minor": 5
}